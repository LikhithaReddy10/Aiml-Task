{
 "cells": [
  {
   "cell_type": "code",
   "execution_count": null,
   "id": "db23a863-fc99-4f46-9423-66a7d03aeb95",
   "metadata": {},
   "outputs": [],
   "source": []
  }
 ],
 "metadata": {
  "kernelspec": {
   "display_name": "",
   "name": ""
  },
  "language_info": {
   "name": ""
  }
 },
 "nbformat": 4,
 "nbformat_minor": 5
}
