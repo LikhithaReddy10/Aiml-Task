{
 "cells": [
  {
   "cell_type": "code",
   "execution_count": 6,
   "id": "5af45b3d-9017-4238-a505-280bf06f8d30",
   "metadata": {},
   "outputs": [
    {
     "name": "stdout",
     "output_type": "stream",
     "text": [
      "[['apple', 10], ['banana', 5], ['grapes', 10], ['cherry', 6], ['dragon', 8], ['orange', 8]]\n"
     ]
    }
   ],
   "source": [
    "orders = [['apple', 10],['banana',5],['grapes',9],['cherry',6],['dragon',8],['orange',8]]\n",
    "for each in orders:\n",
    "    if each[0] == 'grapes':\n",
    "        each[1] = 10\n",
    "print(orders)"
   ]
  },
  {
   "cell_type": "code",
   "execution_count": 14,
   "id": "90482c4d-df0e-4be8-9800-eb68812814ef",
   "metadata": {},
   "outputs": [
    {
     "name": "stdout",
     "output_type": "stream",
     "text": [
      "[10]\n",
      "10\n"
     ]
    }
   ],
   "source": [
    "apple_orders = []\n",
    "for each in orders:\n",
    "    if each[0] == 'apple':\n",
    "        apple_orders.append(each[1])\n",
    "print(apple_orders)\n",
    "print(sum(apple_orders))"
   ]
  },
  {
   "cell_type": "code",
   "execution_count": 18,
   "id": "dfac51f1-cf61-445a-97da-eaae8fda8c69",
   "metadata": {},
   "outputs": [
    {
     "name": "stdout",
     "output_type": "stream",
     "text": [
      "(3, 5, 9, 10)\n",
      "<class 'tuple'>\n"
     ]
    }
   ],
   "source": [
    "Tup1=(3,5,9,10)\n",
    "print(Tup1)\n",
    "print(type(Tup1))"
   ]
  },
  {
   "cell_type": "code",
   "execution_count": null,
   "id": "2f61a63e-5ef6-4813-a850-2346ca9965d0",
   "metadata": {},
   "outputs": [],
   "source": [
    "Tup2=10,20,30'Hi'"
   ]
  },
  {
   "cell_type": "code",
   "execution_count": null,
   "id": "399d407d-aac3-4f6d-8f99-58c4e3102ea3",
   "metadata": {},
   "outputs": [],
   "source": [
    "Tup3=([1,2,5,7])"
   ]
  },
  {
   "cell_type": "code",
   "execution_count": 21,
   "id": "d8f686c3-8282-4568-a914-090c2a368171",
   "metadata": {},
   "outputs": [
    {
     "name": "stdout",
     "output_type": "stream",
     "text": [
      "([3, 2, 1], (1, 4, 6), 'HELLO', 20.6)\n"
     ]
    }
   ],
   "source": [
    "Tup4=([3,2,1],(1,4,6),'HELLO',20.6)\n",
    "print(Tup4)"
   ]
  },
  {
   "cell_type": "code",
   "execution_count": 22,
   "id": "2a2323c3-5021-426a-9b50-868bcf86094b",
   "metadata": {},
   "outputs": [
    {
     "data": {
      "text/plain": [
       "([3, 2, 10], (1, 4, 6), 'HELLO', 20.6)"
      ]
     },
     "execution_count": 22,
     "metadata": {},
     "output_type": "execute_result"
    }
   ],
   "source": [
    "Tup4[0][2] = 10\n",
    "Tup4"
   ]
  },
  {
   "cell_type": "code",
   "execution_count": 23,
   "id": "87ea693c-b2f5-4f1d-89be-214fa32172af",
   "metadata": {},
   "outputs": [
    {
     "data": {
      "text/plain": [
       "([89, 2, 10], (1, 4, 6), 'HELLO', 20.6)"
      ]
     },
     "execution_count": 23,
     "metadata": {},
     "output_type": "execute_result"
    }
   ],
   "source": [
    "Tup4[0][0] = 89\n",
    "Tup4"
   ]
  },
  {
   "cell_type": "code",
   "execution_count": 24,
   "id": "c1411262-be5f-49f3-b1c3-8e88d489e0cf",
   "metadata": {},
   "outputs": [
    {
     "data": {
      "text/plain": [
       "3"
      ]
     },
     "execution_count": 24,
     "metadata": {},
     "output_type": "execute_result"
    }
   ],
   "source": [
    "Tup4.index(20.6)"
   ]
  },
  {
   "cell_type": "code",
   "execution_count": 25,
   "id": "edf8943f-1912-4333-b19a-696ca7692d79",
   "metadata": {},
   "outputs": [
    {
     "data": {
      "text/plain": [
       "3"
      ]
     },
     "execution_count": 25,
     "metadata": {},
     "output_type": "execute_result"
    }
   ],
   "source": [
    "tup5 = (10,5,7,10,6,6,6,9,7)\n",
    "tup5.count(6)"
   ]
  },
  {
   "cell_type": "code",
   "execution_count": 1,
   "id": "a5cb39cb-a0d1-4e53-9257-ee17d705ad47",
   "metadata": {},
   "outputs": [
    {
     "name": "stdout",
     "output_type": "stream",
     "text": [
      "{'a': 1, 'b': 2, 'c': 3}\n",
      "<class 'dict'>\n"
     ]
    }
   ],
   "source": [
    "d1 = {\"a\": 1, \"b\": 2, \"c\": 3}\n",
    "print(d1)\n",
    "print(type(d1))"
   ]
  },
  {
   "cell_type": "code",
   "execution_count": 2,
   "id": "67d17e0f-b5bb-4475-899d-96f4ca64cc86",
   "metadata": {},
   "outputs": [
    {
     "name": "stdout",
     "output_type": "stream",
     "text": [
      "{'A': 10, 'B': 10, 'C': 30}\n"
     ]
    }
   ],
   "source": [
    "d2 = dict(A=10, B=10, C=30)\n",
    "print(d2)"
   ]
  },
  {
   "cell_type": "code",
   "execution_count": 3,
   "id": "ecb820fa-be80-4d68-86ad-d018798a4513",
   "metadata": {},
   "outputs": [
    {
     "name": "stdout",
     "output_type": "stream",
     "text": [
      "{'x': 1, 'y': 2, 'z': 3}\n"
     ]
    }
   ],
   "source": [
    "d3 = dict([(\"x\", 1), (\"y\", 2), (\"z\", 3)])\n",
    "print(d3)"
   ]
  },
  {
   "cell_type": "code",
   "execution_count": 4,
   "id": "54de0de8-1991-47f2-8f26-fad21471fbfa",
   "metadata": {},
   "outputs": [
    {
     "name": "stdout",
     "output_type": "stream",
     "text": [
      "dict_keys(['a', 'b', 'c'])\n",
      "dict_values([1, 2, 3])\n",
      "dict_items([('a', 1), ('b', 2), ('c', 3)])\n"
     ]
    }
   ],
   "source": [
    "print(d1.keys())\n",
    "print(d1.values())\n",
    "print(d1.items())"
   ]
  },
  {
   "cell_type": "code",
   "execution_count": 5,
   "id": "452dd6b0-a2fa-45b2-b9fc-c00a04592249",
   "metadata": {},
   "outputs": [
    {
     "data": {
      "text/plain": [
       "['__class__',\n",
       " '__class_getitem__',\n",
       " '__contains__',\n",
       " '__delattr__',\n",
       " '__delitem__',\n",
       " '__dir__',\n",
       " '__doc__',\n",
       " '__eq__',\n",
       " '__format__',\n",
       " '__ge__',\n",
       " '__getattribute__',\n",
       " '__getitem__',\n",
       " '__getstate__',\n",
       " '__gt__',\n",
       " '__hash__',\n",
       " '__init__',\n",
       " '__init_subclass__',\n",
       " '__ior__',\n",
       " '__iter__',\n",
       " '__le__',\n",
       " '__len__',\n",
       " '__lt__',\n",
       " '__ne__',\n",
       " '__new__',\n",
       " '__or__',\n",
       " '__reduce__',\n",
       " '__reduce_ex__',\n",
       " '__repr__',\n",
       " '__reversed__',\n",
       " '__ror__',\n",
       " '__setattr__',\n",
       " '__setitem__',\n",
       " '__sizeof__',\n",
       " '__str__',\n",
       " '__subclasshook__',\n",
       " 'clear',\n",
       " 'copy',\n",
       " 'fromkeys',\n",
       " 'get',\n",
       " 'items',\n",
       " 'keys',\n",
       " 'pop',\n",
       " 'popitem',\n",
       " 'setdefault',\n",
       " 'update',\n",
       " 'values']"
      ]
     },
     "execution_count": 5,
     "metadata": {},
     "output_type": "execute_result"
    }
   ],
   "source": [
    "dir(dict)"
   ]
  },
  {
   "cell_type": "code",
   "execution_count": 6,
   "id": "b86549bc-0c1e-4bb3-a9b8-f16fb00534dd",
   "metadata": {},
   "outputs": [
    {
     "data": {
      "text/plain": [
       "{'virat': 90,\n",
       " 'Rohit': 80,\n",
       " 'Rahul': 77,\n",
       " 'Hardik': 78,\n",
       " 'Gill': 66,\n",
       " 'Jadeja': 55,\n",
       " 'Siraj': 44}"
      ]
     },
     "execution_count": 6,
     "metadata": {},
     "output_type": "execute_result"
    }
   ],
   "source": [
    "scores = {'virat': 90, 'Rohit': 80, 'Rahul': 77, 'Hardik': 78, 'Gill': 66, 'Jadeja': 55, 'Siraj': 44}\n",
    "scores"
   ]
  },
  {
   "cell_type": "code",
   "execution_count": 8,
   "id": "5a010d27-1f10-476e-918a-9e2289d5fca6",
   "metadata": {},
   "outputs": [
    {
     "data": {
      "text/plain": [
       "{'virat': 90,\n",
       " 'Rohit': 80,\n",
       " 'Rahul': 77,\n",
       " 'Hardik': 78,\n",
       " 'Gill': 66,\n",
       " 'Jadeja': 55,\n",
       " 'Siraj': 44,\n",
       " 'Aswin': 90}"
      ]
     },
     "execution_count": 8,
     "metadata": {},
     "output_type": "execute_result"
    }
   ],
   "source": [
    "scores[\"Aswin\"] = 90\n",
    "scores"
   ]
  },
  {
   "cell_type": "code",
   "execution_count": 9,
   "id": "a229d861-5781-4d6c-a4ca-1c33245e122e",
   "metadata": {},
   "outputs": [
    {
     "name": "stdout",
     "output_type": "stream",
     "text": [
      "{'virat': 100, 'Rohit': 80, 'Rahul': 77, 'Hardik': 78, 'Gill': 66, 'Jadeja': 55, 'Siraj': 44, 'Aswin': 90}\n"
     ]
    }
   ],
   "source": [
    "scores.update({\"virat\":100})\n",
    "print(scores)"
   ]
  },
  {
   "cell_type": "code",
   "execution_count": 10,
   "id": "148b0a08-9e00-40f1-b2cc-bcc4380f049f",
   "metadata": {},
   "outputs": [
    {
     "data": {
      "text/plain": [
       "{'virat': 100,\n",
       " 'Rohit': 55,\n",
       " 'Rahul': 77,\n",
       " 'Hardik': 78,\n",
       " 'Gill': 88,\n",
       " 'Jadeja': 55,\n",
       " 'Siraj': 44,\n",
       " 'Aswin': 90}"
      ]
     },
     "execution_count": 10,
     "metadata": {},
     "output_type": "execute_result"
    }
   ],
   "source": [
    "scores.update({'Rohit':55, 'Gill':88})\n",
    "scores"
   ]
  },
  {
   "cell_type": "code",
   "execution_count": 11,
   "id": "5f76ca47-73ab-4df5-a9f6-7c8a5ac566d8",
   "metadata": {},
   "outputs": [
    {
     "data": {
      "text/plain": [
       "{'virat': 100,\n",
       " 'Rohit': 55,\n",
       " 'Rahul': 77,\n",
       " 'Hardik': 78,\n",
       " 'Gill': 88,\n",
       " 'Jadeja': 55,\n",
       " 'Siraj': 44,\n",
       " 'Aswin': 90,\n",
       " 'NK': 55}"
      ]
     },
     "execution_count": 11,
     "metadata": {},
     "output_type": "execute_result"
    }
   ],
   "source": [
    "scores.update({'NK':55, 'Gill':88})\n",
    "scores"
   ]
  },
  {
   "cell_type": "code",
   "execution_count": 13,
   "id": "9b41ed61-cc55-4fb9-a4e3-fd956db965d9",
   "metadata": {},
   "outputs": [
    {
     "data": {
      "text/plain": [
       "{'virat': 100,\n",
       " 'Rohit': 55,\n",
       " 'Rahul': 77,\n",
       " 'Hardik': 78,\n",
       " 'Gill': 88,\n",
       " 'Jadeja': 55,\n",
       " 'Siraj': 44,\n",
       " 'Aswin': 90,\n",
       " 'NK': 55}"
      ]
     },
     "execution_count": 13,
     "metadata": {},
     "output_type": "execute_result"
    }
   ],
   "source": [
    "scores.setdefault(\"Rohit\",33)\n",
    "scores"
   ]
  },
  {
   "cell_type": "code",
   "execution_count": 14,
   "id": "ff2a00e1-aadd-4598-91f5-f15c1b624397",
   "metadata": {},
   "outputs": [
    {
     "data": {
      "text/plain": [
       "{'virat': 100,\n",
       " 'Rohit': 55,\n",
       " 'Rahul': 77,\n",
       " 'Hardik': 78,\n",
       " 'Gill': 88,\n",
       " 'Jadeja': 55,\n",
       " 'Siraj': 44,\n",
       " 'Aswin': 90,\n",
       " 'NK': 55,\n",
       " 'Rahane': 33}"
      ]
     },
     "execution_count": 14,
     "metadata": {},
     "output_type": "execute_result"
    }
   ],
   "source": [
    "\n",
    "scores.setdefault(\"Rahane\",33)\n",
    "scores"
   ]
  },
  {
   "cell_type": "code",
   "execution_count": 16,
   "id": "0e9a4ce5-9fb8-42f7-a0e5-c4a025e1358e",
   "metadata": {},
   "outputs": [
    {
     "data": {
      "text/plain": [
       "{'virat': 100,\n",
       " 'Rohit': 55,\n",
       " 'Rahul': 77,\n",
       " 'Hardik': 78,\n",
       " 'Gill': 88,\n",
       " 'Jadeja': 55,\n",
       " 'Siraj': 44,\n",
       " 'Aswin': 90,\n",
       " 'NK': 55}"
      ]
     },
     "execution_count": 16,
     "metadata": {},
     "output_type": "execute_result"
    }
   ],
   "source": [
    "scores.popitem()\n",
    "scores"
   ]
  },
  {
   "cell_type": "code",
   "execution_count": 18,
   "id": "ecc3f178-e9f9-4ef6-a512-8f1bd2114042",
   "metadata": {},
   "outputs": [
    {
     "data": {
      "text/plain": [
       "{'virat': 100,\n",
       " 'Rahul': 77,\n",
       " 'Hardik': 78,\n",
       " 'Gill': 88,\n",
       " 'Jadeja': 55,\n",
       " 'Siraj': 44,\n",
       " 'Aswin': 90,\n",
       " 'NK': 55}"
      ]
     },
     "execution_count": 18,
     "metadata": {},
     "output_type": "execute_result"
    }
   ],
   "source": [
    "scores.pop('Rohit')\n",
    "scores"
   ]
  },
  {
   "cell_type": "code",
   "execution_count": 19,
   "id": "65bd4ce6-b900-482d-a3de-b0ab2ce0044d",
   "metadata": {},
   "outputs": [
    {
     "data": {
      "text/plain": [
       "55"
      ]
     },
     "execution_count": 19,
     "metadata": {},
     "output_type": "execute_result"
    }
   ],
   "source": [
    "scores.get('NK')"
   ]
  },
  {
   "cell_type": "code",
   "execution_count": 24,
   "id": "b636641a-c8eb-456d-a5c2-76931e18d84b",
   "metadata": {},
   "outputs": [
    {
     "data": {
      "text/plain": [
       "{'A': None, 'B': None, 'C': None, 'D': None}"
      ]
     },
     "execution_count": 24,
     "metadata": {},
     "output_type": "execute_result"
    }
   ],
   "source": [
    "l1 = [\"A\",\"B\",\"C\",\"D\"]\n",
    "my_dict = dict.fromkeys(l1)\n",
    "my_dict"
   ]
  },
  {
   "cell_type": "code",
   "execution_count": 26,
   "id": "f73fa08c-30b4-406f-ba5c-0f1df973cf78",
   "metadata": {},
   "outputs": [
    {
     "data": {
      "text/plain": [
       "{'A': 66, 'B': 66, 'C': 66, 'D': 66}"
      ]
     },
     "execution_count": 26,
     "metadata": {},
     "output_type": "execute_result"
    }
   ],
   "source": [
    "l1 = [\"A\",\"B\",\"C\",\"D\"]\n",
    "my_dict = dict.fromkeys(l1,66)\n",
    "my_dict"
   ]
  },
  {
   "cell_type": "code",
   "execution_count": 27,
   "id": "5fbdce4b-10fd-41a3-b11d-2627b7201dd2",
   "metadata": {},
   "outputs": [
    {
     "data": {
      "text/plain": [
       "{'A': 90, 'B': 66, 'C': 88, 'D': 66}"
      ]
     },
     "execution_count": 27,
     "metadata": {},
     "output_type": "execute_result"
    }
   ],
   "source": [
    "my_dict.update({'A':90,'C':88})\n",
    "my_dict"
   ]
  },
  {
   "cell_type": "code",
   "execution_count": null,
   "id": "60646dbd-7355-4706-acee-178768ad8c88",
   "metadata": {},
   "outputs": [],
   "source": []
  }
 ],
 "metadata": {
  "kernelspec": {
   "display_name": "Python 3 (ipykernel)",
   "language": "python",
   "name": "python3"
  },
  "language_info": {
   "codemirror_mode": {
    "name": "ipython",
    "version": 3
   },
   "file_extension": ".py",
   "mimetype": "text/x-python",
   "name": "python",
   "nbconvert_exporter": "python",
   "pygments_lexer": "ipython3",
   "version": "3.12.7"
  }
 },
 "nbformat": 4,
 "nbformat_minor": 5
}
