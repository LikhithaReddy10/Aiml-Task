{
 "cells": [
  {
   "cell_type": "code",
   "execution_count": null,
   "id": "e7e60cf0-d6a0-4c25-bd42-3c57a37c8f03",
   "metadata": {},
   "outputs": [],
   "source": []
  }
 ],
 "metadata": {
  "kernelspec": {
   "display_name": "",
   "name": ""
  },
  "language_info": {
   "name": ""
  }
 },
 "nbformat": 4,
 "nbformat_minor": 5
}
