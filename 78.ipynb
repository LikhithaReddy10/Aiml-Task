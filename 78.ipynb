{
 "cells": [
  {
   "cell_type": "code",
   "execution_count": 1,
   "id": "a7a6d689-8229-4f0d-8d77-67f55381d300",
   "metadata": {},
   "outputs": [
    {
     "name": "stdout",
     "output_type": "stream",
     "text": [
      "{0, 1, 4, 5, 6, 9, 10}\n",
      "<class 'set'>\n"
     ]
    }
   ],
   "source": [
    "#sets\n",
    "s1 = {1,4,5,9,0,9,10,5,6,6,6,}\n",
    "print(s1)\n",
    "print(type(s1))"
   ]
  },
  {
   "cell_type": "code",
   "execution_count": 2,
   "id": "32e5c48c-7a31-4769-98fe-39ad4176b0ea",
   "metadata": {},
   "outputs": [],
   "source": [
    "l1 = [1,1,2,2,2,4,5,6,7,8,9]"
   ]
  },
  {
   "cell_type": "code",
   "execution_count": 3,
   "id": "c4d5304c-6ae9-4206-9920-5fc9cfb74daf",
   "metadata": {},
   "outputs": [
    {
     "name": "stdout",
     "output_type": "stream",
     "text": [
      "{1, 2, 4, 5, 6, 7, 8, 9}\n",
      "<class 'set'>\n"
     ]
    }
   ],
   "source": [
    "s2 = set(l1)\n",
    "print(s2)\n",
    "print(type(s2))"
   ]
  },
  {
   "cell_type": "code",
   "execution_count": 4,
   "id": "91fe322a-91fd-4908-a06f-a9eef7d5db02",
   "metadata": {},
   "outputs": [
    {
     "data": {
      "text/plain": [
       "['__and__',\n",
       " '__class__',\n",
       " '__class_getitem__',\n",
       " '__contains__',\n",
       " '__delattr__',\n",
       " '__dir__',\n",
       " '__doc__',\n",
       " '__eq__',\n",
       " '__format__',\n",
       " '__ge__',\n",
       " '__getattribute__',\n",
       " '__getstate__',\n",
       " '__gt__',\n",
       " '__hash__',\n",
       " '__iand__',\n",
       " '__init__',\n",
       " '__init_subclass__',\n",
       " '__ior__',\n",
       " '__isub__',\n",
       " '__iter__',\n",
       " '__ixor__',\n",
       " '__le__',\n",
       " '__len__',\n",
       " '__lt__',\n",
       " '__ne__',\n",
       " '__new__',\n",
       " '__or__',\n",
       " '__rand__',\n",
       " '__reduce__',\n",
       " '__reduce_ex__',\n",
       " '__repr__',\n",
       " '__ror__',\n",
       " '__rsub__',\n",
       " '__rxor__',\n",
       " '__setattr__',\n",
       " '__sizeof__',\n",
       " '__str__',\n",
       " '__sub__',\n",
       " '__subclasshook__',\n",
       " '__xor__',\n",
       " 'add',\n",
       " 'clear',\n",
       " 'copy',\n",
       " 'difference',\n",
       " 'difference_update',\n",
       " 'discard',\n",
       " 'intersection',\n",
       " 'intersection_update',\n",
       " 'isdisjoint',\n",
       " 'issubset',\n",
       " 'issuperset',\n",
       " 'pop',\n",
       " 'remove',\n",
       " 'symmetric_difference',\n",
       " 'symmetric_difference_update',\n",
       " 'union',\n",
       " 'update']"
      ]
     },
     "execution_count": 4,
     "metadata": {},
     "output_type": "execute_result"
    }
   ],
   "source": [
    "#set methods\n",
    "#Union operation using / operator\n",
    "dir(set)\n",
    "\n"
   ]
  },
  {
   "cell_type": "code",
   "execution_count": 5,
   "id": "16134885-a77b-408b-86aa-357b40012a94",
   "metadata": {},
   "outputs": [],
   "source": [
    "#Union operation using / operator\n",
    "s1 = {1,2,3,4}\n",
    "s2 = {3,4,5,6}"
   ]
  },
  {
   "cell_type": "code",
   "execution_count": 6,
   "id": "d66a55c5-5613-4eb9-9125-a97b5fe6cf8c",
   "metadata": {},
   "outputs": [
    {
     "data": {
      "text/plain": [
       "{1, 2, 3, 4, 5, 6}"
      ]
     },
     "execution_count": 6,
     "metadata": {},
     "output_type": "execute_result"
    }
   ],
   "source": [
    "s1 | s2"
   ]
  },
  {
   "cell_type": "code",
   "execution_count": 7,
   "id": "58595909-4034-449e-a081-151a84450d1a",
   "metadata": {},
   "outputs": [
    {
     "data": {
      "text/plain": [
       "{1, 2, 3, 4, 5, 6}"
      ]
     },
     "execution_count": 7,
     "metadata": {},
     "output_type": "execute_result"
    }
   ],
   "source": [
    "s1.union(s2)"
   ]
  },
  {
   "cell_type": "code",
   "execution_count": 8,
   "id": "5d96de18-b280-4bf5-901d-d6eb0343c787",
   "metadata": {},
   "outputs": [],
   "source": [
    "#intersection using & operator\n",
    "s1 = {3,4,5,6}\n",
    "s2 = {3,5,6,7}"
   ]
  },
  {
   "cell_type": "code",
   "execution_count": 9,
   "id": "778d5335-c948-49a3-ae63-f740bf3672fb",
   "metadata": {},
   "outputs": [
    {
     "data": {
      "text/plain": [
       "{3, 5, 6}"
      ]
     },
     "execution_count": 9,
     "metadata": {},
     "output_type": "execute_result"
    }
   ],
   "source": [
    "s1 & s2"
   ]
  },
  {
   "cell_type": "code",
   "execution_count": 10,
   "id": "73885cb2-ecbe-471b-a931-8796d91c0bd3",
   "metadata": {},
   "outputs": [],
   "source": [
    "#diff of sets\n",
    "s1 = {2,5,6,7,8}\n",
    "s2 = {2,5,7,9,0}"
   ]
  },
  {
   "cell_type": "code",
   "execution_count": 11,
   "id": "74231cae-3aa4-44b6-b3df-e92a83b23474",
   "metadata": {},
   "outputs": [
    {
     "data": {
      "text/plain": [
       "{6, 8}"
      ]
     },
     "execution_count": 11,
     "metadata": {},
     "output_type": "execute_result"
    }
   ],
   "source": [
    "s1 - s2"
   ]
  },
  {
   "cell_type": "code",
   "execution_count": 12,
   "id": "61bc211f-65ea-4603-85b5-09cf48138de0",
   "metadata": {},
   "outputs": [],
   "source": [
    "s1 = {2,5,6,7,8}\n",
    "s2 = {2,5,7,9,0}"
   ]
  },
  {
   "cell_type": "code",
   "execution_count": 13,
   "id": "c5db280f-8644-4a35-9610-a477c096a93d",
   "metadata": {},
   "outputs": [
    {
     "data": {
      "text/plain": [
       "{0, 9}"
      ]
     },
     "execution_count": 13,
     "metadata": {},
     "output_type": "execute_result"
    }
   ],
   "source": [
    "s2 - s1"
   ]
  },
  {
   "cell_type": "code",
   "execution_count": 19,
   "id": "49d2898d-eac4-43ae-aac3-03c0a41ac417",
   "metadata": {},
   "outputs": [],
   "source": [
    "#symmetric difference\n",
    "s1 = {1,2,3,4,5}\n",
    "s2 = {4,5,6,7,8}"
   ]
  },
  {
   "cell_type": "code",
   "execution_count": 20,
   "id": "b77c4e50-ec83-428c-bc30-82f5b0936245",
   "metadata": {},
   "outputs": [
    {
     "data": {
      "text/plain": [
       "{1, 2, 3, 6, 7, 8}"
      ]
     },
     "execution_count": 20,
     "metadata": {},
     "output_type": "execute_result"
    }
   ],
   "source": [
    "s1.symmetric_difference(s2)"
   ]
  },
  {
   "cell_type": "code",
   "execution_count": 21,
   "id": "1ae2801c-4c3d-465b-beed-632b91964ed9",
   "metadata": {},
   "outputs": [
    {
     "name": "stdout",
     "output_type": "stream",
     "text": [
      "Welcome to aiml class\n",
      "we started with python\n"
     ]
    }
   ],
   "source": [
    "str1 = \"Welcome to aiml class\"\n",
    "print(str1)\n",
    "str2 = 'we started with python'\n",
    "print(str2)"
   ]
  },
  {
   "cell_type": "code",
   "execution_count": 25,
   "id": "046379ef-c31d-417d-ab81-baa3eeb4e4aa",
   "metadata": {},
   "outputs": [
    {
     "name": "stdout",
     "output_type": "stream",
     "text": [
      "He said,\"It's awesome!\"\n"
     ]
    }
   ],
   "source": [
    "str4 = '''He said,\"It's awesome!\"'''\n",
    "print(str4)"
   ]
  },
  {
   "cell_type": "code",
   "execution_count": 26,
   "id": "75334cc8-a877-4387-8dc2-98a8e846e745",
   "metadata": {},
   "outputs": [
    {
     "name": "stdout",
     "output_type": "stream",
     "text": [
      "Welcome to aiml class\n"
     ]
    },
    {
     "data": {
      "text/plain": [
       "'me to'"
      ]
     },
     "execution_count": 26,
     "metadata": {},
     "output_type": "execute_result"
    }
   ],
   "source": [
    "print(str1)\n",
    "str1[5:10]"
   ]
  },
  {
   "cell_type": "code",
   "execution_count": 29,
   "id": "3cf3a2c6-e9d9-48ca-9262-cceed90da02a",
   "metadata": {},
   "outputs": [
    {
     "data": {
      "text/plain": [
       "'ssalc lmia ot emocleW'"
      ]
     },
     "execution_count": 29,
     "metadata": {},
     "output_type": "execute_result"
    }
   ],
   "source": [
    "str1[::-1]"
   ]
  },
  {
   "cell_type": "code",
   "execution_count": 30,
   "id": "fca0fc94-6f59-42f1-868a-9cc5936681f9",
   "metadata": {},
   "outputs": [
    {
     "data": {
      "text/plain": [
       "['__add__',\n",
       " '__class__',\n",
       " '__contains__',\n",
       " '__delattr__',\n",
       " '__dir__',\n",
       " '__doc__',\n",
       " '__eq__',\n",
       " '__format__',\n",
       " '__ge__',\n",
       " '__getattribute__',\n",
       " '__getitem__',\n",
       " '__getnewargs__',\n",
       " '__getstate__',\n",
       " '__gt__',\n",
       " '__hash__',\n",
       " '__init__',\n",
       " '__init_subclass__',\n",
       " '__iter__',\n",
       " '__le__',\n",
       " '__len__',\n",
       " '__lt__',\n",
       " '__mod__',\n",
       " '__mul__',\n",
       " '__ne__',\n",
       " '__new__',\n",
       " '__reduce__',\n",
       " '__reduce_ex__',\n",
       " '__repr__',\n",
       " '__rmod__',\n",
       " '__rmul__',\n",
       " '__setattr__',\n",
       " '__sizeof__',\n",
       " '__str__',\n",
       " '__subclasshook__',\n",
       " 'capitalize',\n",
       " 'casefold',\n",
       " 'center',\n",
       " 'count',\n",
       " 'encode',\n",
       " 'endswith',\n",
       " 'expandtabs',\n",
       " 'find',\n",
       " 'format',\n",
       " 'format_map',\n",
       " 'index',\n",
       " 'isalnum',\n",
       " 'isalpha',\n",
       " 'isascii',\n",
       " 'isdecimal',\n",
       " 'isdigit',\n",
       " 'isidentifier',\n",
       " 'islower',\n",
       " 'isnumeric',\n",
       " 'isprintable',\n",
       " 'isspace',\n",
       " 'istitle',\n",
       " 'isupper',\n",
       " 'join',\n",
       " 'ljust',\n",
       " 'lower',\n",
       " 'lstrip',\n",
       " 'maketrans',\n",
       " 'partition',\n",
       " 'removeprefix',\n",
       " 'removesuffix',\n",
       " 'replace',\n",
       " 'rfind',\n",
       " 'rindex',\n",
       " 'rjust',\n",
       " 'rpartition',\n",
       " 'rsplit',\n",
       " 'rstrip',\n",
       " 'split',\n",
       " 'splitlines',\n",
       " 'startswith',\n",
       " 'strip',\n",
       " 'swapcase',\n",
       " 'title',\n",
       " 'translate',\n",
       " 'upper',\n",
       " 'zfill']"
      ]
     },
     "execution_count": 30,
     "metadata": {},
     "output_type": "execute_result"
    }
   ],
   "source": [
    "dir(str)"
   ]
  },
  {
   "cell_type": "code",
   "execution_count": 31,
   "id": "5b2a945f-b636-45a6-92ed-15e6115cace4",
   "metadata": {},
   "outputs": [
    {
     "name": "stdout",
     "output_type": "stream",
     "text": [
      "Welcome to aiml class\n"
     ]
    },
    {
     "data": {
      "text/plain": [
       "['Welcome', 'to', 'aiml', 'class']"
      ]
     },
     "execution_count": 31,
     "metadata": {},
     "output_type": "execute_result"
    }
   ],
   "source": [
    "print(str1)\n",
    "str1.split()"
   ]
  },
  {
   "cell_type": "code",
   "execution_count": 34,
   "id": "8af75a9b-3f87-496f-a960-b7dd5021b55c",
   "metadata": {},
   "outputs": [],
   "source": [
    "sales_data = {\n",
    "    \"ProductID\": [101, 102, 103, 104, 105, 106, 107, 108, 109, 110],\n",
    "    \"ProductName\": [\"Laptop\", \"Mouse\", \"Keyboard\", \"Monitor\", \"Chair\", \"Desk\", \"Webcam\", \"Headphones\", \"Printer\", \"Tablet\"],\n",
    "    \"Category\": [\"Electronics\", \"Accessories\", \"Accessories\", \"Electronics\", \"Furniture\", \"Furniture\", \"Electronics\", \"Accessories\", \"Electronics\", \"Electronics\"],\n",
    "    \"PriceRange\": [\"High\", \"Low\", \"Low\", \"Medium\", \"Medium\", \"Medium\", \"Low\", \"Low\", \"Medium\", \"High\"],\n",
    "    \"StockAvailable\": [15, 100, 75, 20, 10, 8, 50, 60, 25, 12],\n",
    "}"
   ]
  },
  {
   "cell_type": "code",
   "execution_count": 36,
   "id": "5a128fd3-0881-4a49-8e60-703c928f18c2",
   "metadata": {},
   "outputs": [
    {
     "name": "stdout",
     "output_type": "stream",
     "text": [
      "ProductID {101, 102, 103, 104, 105, 106, 107, 108, 109, 110},/n\n",
      "ProductName {'Printer', 'Laptop', 'Keyboard', 'Chair', 'Webcam', 'Mouse', 'Desk', 'Monitor', 'Headphones', 'Tablet'},/n\n",
      "Category {'Furniture', 'Electronics', 'Accessories'},/n\n",
      "PriceRange {'High', 'Low', 'Medium'},/n\n",
      "StockAvailable {100, 8, 10, 75, 12, 15, 50, 20, 25, 60},/n\n"
     ]
    }
   ],
   "source": [
    "for k,v in sales_data.items():\n",
    "    print(k,set(v), end =',')\n",
    "    print('/n')"
   ]
  },
  {
   "cell_type": "code",
   "execution_count": 42,
   "id": "540b0ec5-3503-404a-b0e5-2a6095a29833",
   "metadata": {},
   "outputs": [],
   "source": [
    "reviews = {\n",
    "    \"Review1\": \"The product quality is excellent and delivery was prompt. The product functionality is versatile\",\n",
    "    \"Review2\": \"Good service but the packaging could have been better. The customer service has to improve\",\n",
    "    \"Review3\": \"The product works fine, but the customer support is not very helpful. I rate the product as excellent\",\n",
    "}\n"
   ]
  },
  {
   "cell_type": "code",
   "execution_count": 43,
   "id": "3a30aa9f-9f82-4b8b-a681-3256dc6c2b22",
   "metadata": {},
   "outputs": [],
   "source": [
    "review_analysis = {}\n",
    "for key, review in reviews.items():\n",
    "    # Split the review into words\n",
    "    words = review.lower().replace('.', '').replace(',', '').split()\n",
    "    # Create a sub-dictionary with word count and unique words\n",
    "    review_analysis[key] = {\n",
    "        \"WordCount\": len(words),\n",
    "        \"UniqueWords\": list(set(words))\n",
    "    }\n",
    "    review_analysis"
   ]
  },
  {
   "cell_type": "code",
   "execution_count": 45,
   "id": "78a115b0-7a64-4870-8f45-87b4946ebfcf",
   "metadata": {},
   "outputs": [],
   "source": [
    "d1 = {'Ram': 68, 'Shyam': 99,'Sita': 90}\n"
   ]
  },
  {
   "cell_type": "code",
   "execution_count": 46,
   "id": "32597b16-7f18-4f20-a4e4-0213efe8100c",
   "metadata": {},
   "outputs": [
    {
     "name": "stdout",
     "output_type": "stream",
     "text": [
      "Ram\n",
      "Shyam\n",
      "Sita\n"
     ]
    }
   ],
   "source": [
    "for v in d1.keys():\n",
    "    print(v)"
   ]
  },
  {
   "cell_type": "code",
   "execution_count": 47,
   "id": "710cb172-332d-4f64-bbf7-2629a4bc32e5",
   "metadata": {},
   "outputs": [
    {
     "name": "stdout",
     "output_type": "stream",
     "text": [
      "68\n",
      "99\n",
      "90\n"
     ]
    }
   ],
   "source": [
    "for v in d1.values():\n",
    "    print(v)"
   ]
  },
  {
   "cell_type": "code",
   "execution_count": 48,
   "id": "79696a87-72b7-4497-b3aa-9b4007e0bd6d",
   "metadata": {},
   "outputs": [
    {
     "name": "stdout",
     "output_type": "stream",
     "text": [
      "('Ram', 68)\n",
      "('Shyam', 99)\n",
      "('Sita', 90)\n"
     ]
    }
   ],
   "source": [
    "for v in d1.items():\n",
    "    print(v)\n",
    "    #acess both"
   ]
  },
  {
   "cell_type": "code",
   "execution_count": 50,
   "id": "509dfce9-2ac2-42cf-8849-5e8565c8467e",
   "metadata": {},
   "outputs": [
    {
     "data": {
      "text/plain": [
       "{'Ram': 68, 'Shyam': 99, 'Sita': 90, 'John': 88}"
      ]
     },
     "execution_count": 50,
     "metadata": {},
     "output_type": "execute_result"
    }
   ],
   "source": [
    "d1['John'] = 88\n",
    "d1"
   ]
  },
  {
   "cell_type": "code",
   "execution_count": null,
   "id": "19a7f8de-a2a8-46fd-ac11-90825c285e04",
   "metadata": {},
   "outputs": [],
   "source": []
  }
 ],
 "metadata": {
  "kernelspec": {
   "display_name": "Python 3 (ipykernel)",
   "language": "python",
   "name": "python3"
  },
  "language_info": {
   "codemirror_mode": {
    "name": "ipython",
    "version": 3
   },
   "file_extension": ".py",
   "mimetype": "text/x-python",
   "name": "python",
   "nbconvert_exporter": "python",
   "pygments_lexer": "ipython3",
   "version": "3.12.7"
  }
 },
 "nbformat": 4,
 "nbformat_minor": 5
}
